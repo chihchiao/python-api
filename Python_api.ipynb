{
  "nbformat": 4,
  "nbformat_minor": 0,
  "metadata": {
    "colab": {
      "provenance": [],
      "authorship_tag": "ABX9TyNBxcajWcIN00QQCx3arkO/",
      "include_colab_link": true
    },
    "kernelspec": {
      "name": "python3",
      "display_name": "Python 3"
    },
    "language_info": {
      "name": "python"
    }
  },
  "cells": [
    {
      "cell_type": "markdown",
      "metadata": {
        "id": "view-in-github",
        "colab_type": "text"
      },
      "source": [
        "<a href=\"https://colab.research.google.com/github/chihchiao/python-api/blob/main/Python_api.ipynb\" target=\"_parent\"><img src=\"https://colab.research.google.com/assets/colab-badge.svg\" alt=\"Open In Colab\"/></a>"
      ]
    },
    {
      "cell_type": "markdown",
      "source": [
        "#Read/Write File"
      ],
      "metadata": {
        "id": "5Np15NX_I4z6"
      }
    },
    {
      "cell_type": "code",
      "execution_count": 1,
      "metadata": {
        "id": "Ae5AV1K7IL37",
        "colab": {
          "base_uri": "https://localhost:8080/"
        },
        "outputId": "962eb6fd-3e9d-4af2-a4d2-301c29430289"
      },
      "outputs": [
        {
          "output_type": "stream",
          "name": "stdout",
          "text": [
            "在遙遠的數碼森林裡，住著各式各樣的程式語言族群。Python族是森林中最友善的居民，經常幫助其他族群解決問題。與此同時，\n",
            "Java族以其強大的結構和資源而聞名，經常舉辦盛大的API聚會。\n",
            "\n",
            "一天，小Java出去冒險時不慎迷失了方向。它記得Python族經常談到一個名為「庫」的神秘地方，那裡有無盡的工具可以解決森林中的各種難題。\n",
            "小Java決定尋求Python族的幫助。\n",
            "\n",
            "在Python族的領地，小Java遇到了小Python。小Python非常熱心地向小Java介紹了pip這個神奇的工具，它可以從「庫」中召喚各種強大的模組。經過一番摸索，\n",
            "小Java終於找到了回家的路。回到家鄉，小Java興奮地與同族分享了這次的冒險經歷和Python族的智慧。從此，Java族和Python族之間的友誼更加深厚，\n",
            "它們攜手合作，使數碼森林更加繁榮和和諧。\n"
          ]
        }
      ],
      "source": [
        "with open(\"/content/drive/MyDrive/Colab Notebooks/demo.txt\",\"r\")as f:\n",
        "  content = f.read()\n",
        "  print(content)"
      ]
    },
    {
      "cell_type": "code",
      "source": [
        "with open(\"/content/drive/MyDrive/Colab Notebooks/newFile.txt\",\"w\")as f:\n",
        "  f.write(\"Today is Thursday\\n\")\n",
        "  f.write(\"I am in class\\n\")\n",
        "  f.write(\"Python\")"
      ],
      "metadata": {
        "id": "dTe1kMDULz9D"
      },
      "execution_count": null,
      "outputs": []
    }
  ]
}